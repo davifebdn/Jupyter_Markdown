{
 "cells": [
  {
   "cell_type": "markdown",
   "metadata": {},
   "source": [
    "# S01 T01: Jupyter Notebook i Markdown\n",
    "## Nivell 1\n",
    "### Exercici 2\n",
    "Utilitzant Jupyter Notebook executa alguns càlculs senzills, a la vegada que et familiaritzes amb el llenguatge Markdown."
   ]
  },
  {
   "cell_type": "code",
   "execution_count": 12,
   "metadata": {},
   "outputs": [
    {
     "name": "stdout",
     "output_type": "stream",
     "text": [
      "7\n",
      "2.5\n",
      "0.4\n",
      "2\n",
      "0\n",
      "Data Science\n",
      "False\n",
      "True\n"
     ]
    }
   ],
   "source": [
    "#Crear variables\n",
    "num1 = 2\n",
    "num2 = 5\n",
    "\n",
    "#Operacions matemàtiques\n",
    "print(num1 + num2)\n",
    "print(num2 / num1)\n",
    "print(num1 / num2)\n",
    "\n",
    "#Transformació amb casting\n",
    "print(int(num2 / num1))\n",
    "print(int(num1 / num2))\n",
    "\n",
    "#Tècniques amb Strings\n",
    "text1 = \"Data\"\n",
    "text2 = \"Science\"\n",
    "print(text1 + \" \" + text2)\n",
    "\n",
    "#Booleans\n",
    "print(num1 > num2)\n",
    "print(num2 > num1)"
   ]
  },
  {
   "cell_type": "markdown",
   "metadata": {},
   "source": [
    "### Exercici 3\n",
    "Prova de crear títols, llistes, canviar l’estil de la lletra o afegir imatges dins del Notebook."
   ]
  },
  {
   "cell_type": "markdown",
   "metadata": {},
   "source": [
    "Llista sense endreçar\n",
    "* Primer\n",
    "* Segon\n",
    "\n",
    "\n",
    "Llista endreçada\n",
    "1. Primer\n",
    "2. Segon\n",
    "    2.1 Segon\n",
    "\n",
    "\n",
    "Estils de lletres\n",
    "\n",
    "**Estil en negreta**\n",
    "\n",
    "_Estil en itàlica_\n",
    "\n",
    "***Estil en negreta i itàlica***\n",
    "\n",
    "\n",
    "Afegir una imatge\n",
    "\n",
    "\n",
    "![Logo](https://upload.wikimedia.org/wikipedia/commons/c/c1/Jupiter_New_Horizons.jpg \"Júpiter\")\n"
   ]
  },
  {
   "cell_type": "markdown",
   "metadata": {},
   "source": []
  },
  {
   "cell_type": "markdown",
   "metadata": {},
   "source": [
    "## Nivell 2\n",
    "\n",
    "### Exercici 1\n",
    "\n",
    "Exporta el Notebook com a pdf i com a html."
   ]
  },
  {
   "cell_type": "markdown",
   "metadata": {},
   "source": [
    "Per exportar el Notebook s'ha d'anar a File i escollir Download As. Allà es pot escollir diferents formats, entre ells HTML i PDF.\n",
    "\n",
    "Amb HTML no hi ha problema però amb PDF requereix la instal·lació de xelatex a la direcció:\n",
    "https://nbconvert.readthedocs.io/en/latest/install.html#installing-tex.\n",
    "\n",
    "A més, després s'ha d'instal·lar Pandoc\n",
    "https://pandoc.org/installing.html"
   ]
  },
  {
   "cell_type": "markdown",
   "metadata": {},
   "source": [
    "## Nivell 3\n",
    "\n",
    "### Exercici 1\n",
    "\n",
    "Instal·la Nbextensions al Notebook de Jupyter."
   ]
  },
  {
   "cell_type": "markdown",
   "metadata": {},
   "source": [
    "Per instal·lar Nbextensions s'ha d'executar el CMD Anaconda Prompt. Allà, s'han d'executar lína a línia el següent codi:\n",
    "\n",
    "pip install jupyter_contrib_nbextensions\n",
    "pip install jupyter_nbextensions_configurator\n",
    "jupyter contrib nbextension install --user \n",
    "jupyter nbextensions_configurator enable –user\n",
    "\n",
    "Un cop fet, s'ha de tancar el navegador i tornar a obrir el Jupyter Notebook. LLavors, sortirà "
   ]
  }
 ],
 "metadata": {
  "kernelspec": {
   "display_name": "Python 3 (ipykernel)",
   "language": "python",
   "name": "python3"
  },
  "language_info": {
   "codemirror_mode": {
    "name": "ipython",
    "version": 3
   },
   "file_extension": ".py",
   "mimetype": "text/x-python",
   "name": "python",
   "nbconvert_exporter": "python",
   "pygments_lexer": "ipython3",
   "version": "3.9.7"
  },
  "toc": {
   "base_numbering": 1,
   "nav_menu": {},
   "number_sections": true,
   "sideBar": true,
   "skip_h1_title": false,
   "title_cell": "Table of Contents",
   "title_sidebar": "Contents",
   "toc_cell": false,
   "toc_position": {},
   "toc_section_display": true,
   "toc_window_display": false
  }
 },
 "nbformat": 4,
 "nbformat_minor": 4
}
